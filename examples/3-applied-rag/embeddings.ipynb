{
 "cells": [
  {
   "cell_type": "code",
   "execution_count": 12,
   "id": "d566bb99-6808-4976-8476-ed05b7941b80",
   "metadata": {},
   "outputs": [
    {
     "data": {
      "text/plain": [
       "243"
      ]
     },
     "execution_count": 12,
     "metadata": {},
     "output_type": "execute_result"
    }
   ],
   "source": [
    "import pandas as pd\n",
    "#df = pd.read_csv('../../top_rated_wines.csv')\n",
    "df = pd.read_csv('../../../organization.csv')\n",
    "#df = df[df['variety'].notna()] # remove any NaN values as it blows up serialization\n",
    "df = df[df['Reports To'].notna()] # remove any NaN values as it blows up serialization\n",
    "df = df[df['Line Detail 1'].notna()] # remove any NaN values as it blows up serialization\n",
    "df = df[df['Line Detail 2'].notna()] # remove any NaN values as it blows up serialization\n",
    "#df = df[df['Organization Name'].notna()] # remove any NaN values as it blows up serialization\n",
    "data = df.to_dict('records')\n",
    "#data = df.sample(700).to_dict('records') # Get only 700 records. More records will make it slower to index\n",
    "len(data)"
   ]
  },
  {
   "cell_type": "code",
   "execution_count": 13,
   "id": "af8bce2c-e123-498a-a5f2-cefffd17fc74",
   "metadata": {},
   "outputs": [],
   "source": [
    "from qdrant_client import models, QdrantClient\n",
    "from sentence_transformers import SentenceTransformer"
   ]
  },
  {
   "cell_type": "code",
   "execution_count": 14,
   "id": "2b0e4be5-7518-4458-bf47-6913ef9a72a9",
   "metadata": {},
   "outputs": [],
   "source": [
    "encoder = SentenceTransformer('all-MiniLM-L6-v2') # Model to create embeddings"
   ]
  },
  {
   "cell_type": "code",
   "execution_count": 15,
   "id": "5efa031d-b18a-4db1-9c34-9989a15c822b",
   "metadata": {},
   "outputs": [],
   "source": [
    "# create the vector database client\n",
    "qdrant = QdrantClient(\":memory:\") # Create in-memory Qdrant instance"
   ]
  },
  {
   "cell_type": "code",
   "execution_count": 16,
   "id": "6c03be93-a076-425e-8df1-5a8b6367e558",
   "metadata": {},
   "outputs": [
    {
     "name": "stderr",
     "output_type": "stream",
     "text": [
      "/var/folders/db/h74khb5x6_jfk0g2t1d1ptsw0000gp/T/ipykernel_86189/3813498731.py:2: DeprecationWarning: `recreate_collection` method is deprecated and will be removed in the future. Use `collection_exists` to check collection existence and `create_collection` instead.\n",
      "  qdrant.recreate_collection(\n"
     ]
    },
    {
     "data": {
      "text/plain": [
       "True"
      ]
     },
     "execution_count": 16,
     "metadata": {},
     "output_type": "execute_result"
    }
   ],
   "source": [
    "# Create collection to store wines\n",
    "qdrant.recreate_collection(\n",
    "    #collection_name=\"top_wines\",\n",
    "    collection_name=\"org_chart\",\n",
    "    vectors_config=models.VectorParams(\n",
    "        size=encoder.get_sentence_embedding_dimension(), # Vector size is defined by used model\n",
    "        distance=models.Distance.COSINE\n",
    "    )\n",
    ")"
   ]
  },
  {
   "cell_type": "code",
   "execution_count": 28,
   "id": "655d08af-758f-4338-b112-cf94045c7b0d",
   "metadata": {},
   "outputs": [],
   "source": [
    "# vectorize!\n",
    "qdrant.upload_points(\n",
    "    collection_name=\"org_chart\", # change \"top_wines\" to \"org_chart\" if using organization data\n",
    "    points=[\n",
    "        models.PointStruct(\n",
    "            id=idx,\n",
    "            vector=encoder.encode(doc[\"Line Detail 1\"]).tolist(), # change \"notes\" to \"Line Detail 2\" if using organization data\n",
    "            payload=doc,\n",
    "        ) for idx, doc in enumerate(data) # data is the variable holding all the wines\n",
    "    ]\n",
    ")"
   ]
  },
  {
   "cell_type": "code",
   "execution_count": 29,
   "id": "f23bc999",
   "metadata": {},
   "outputs": [],
   "source": [
    "#user_prompt = \"Suggest me an amazing Malbec wine from Argentina\"\n",
    "user_prompt = \"Suggest me an amazing R&D Manager from Bangalore\""
   ]
  },
  {
   "cell_type": "code",
   "execution_count": 30,
   "id": "68c9bff5-db38-4a98-b542-cd173af11b53",
   "metadata": {},
   "outputs": [
    {
     "name": "stdout",
     "output_type": "stream",
     "text": [
      "{'Unique Identifier': '10_Naresh_Medisetty_(1045807)', 'Name': 'Naresh Medisetty (1045807)', 'Reports To': '1_Cathal_Copas_(1043184)', 'Line Detail 1': 'Manager, R&D', 'Line Detail 2': 'Karnataka, Bangalore #78, 7th Floor'} score: 0.6128553560894914\n",
      "{'Unique Identifier': '45_Rahul_Gupta_(1497183)', 'Name': 'Rahul Gupta (1497183)', 'Reports To': '7_Vijay_Indoria_(1045867)', 'Line Detail 1': 'Manager, R&D', 'Line Detail 2': 'Karnataka, Bangalore #78, 7th Floor'} score: 0.6128553560894914\n",
      "{'Unique Identifier': '20_Partha_Nayak_(1045812)', 'Name': 'Partha Nayak (1045812)', 'Reports To': '2_Chris_Gerardot_(1041034)', 'Line Detail 1': 'Manager, R&D', 'Line Detail 2': 'Karnataka, Bangalore #78, 7th Floor'} score: 0.6128553560894914\n",
      "{'Unique Identifier': '43_Anand_Molkeri_(1045810)', 'Name': 'Anand Molkeri (1045810)', 'Reports To': '7_Vijay_Indoria_(1045867)', 'Line Detail 1': 'Manager, R&D', 'Line Detail 2': 'Karnataka, Bangalore #78, 7th Floor'} score: 0.6128553560894914\n",
      "{'Unique Identifier': '8_Crispin_Jacob_(1045801)', 'Name': 'Crispin Jacob (1045801)', 'Reports To': '1_Cathal_Copas_(1043184)', 'Line Detail 1': 'Senior Manager, R&D', 'Line Detail 2': 'Karnataka, Bangalore #78, 7th Floor'} score: 0.6082624415178663\n",
      "{'Unique Identifier': '46_Vijay_Indoria_(1045867)', 'Name': 'Vijay Indoria (1045867)', 'Reports To': '7_Vijay_Indoria_(1045867)', 'Line Detail 1': 'Senior Manager, R&D', 'Line Detail 2': 'Indiana, Fort Wayne 1950 West Cook Road'} score: 0.6082624415178663\n",
      "{'Unique Identifier': '7_Vijay_Indoria_(1045867)', 'Name': 'Vijay Indoria (1045867)', 'Reports To': '0_Amit_Mahadik_(1461405)', 'Line Detail 1': 'Senior Manager, R&D', 'Line Detail 2': 'Karnataka, Bangalore #78, 7th Floor'} score: 0.6082624415178663\n",
      "{'Unique Identifier': '26_Roopa_B_R_(1068911)', 'Name': 'Roopa B R (1068911)', 'Reports To': '3_David_Holscher_(1040973)', 'Line Detail 1': 'Senior Manager R&D', 'Line Detail 2': 'Karnataka, Bangalore #78, 7th Floor'} score: 0.5874853853198555\n",
      "{'Unique Identifier': '44_Oswaldin_Azor_(1040940)', 'Name': 'Oswaldin Azor (1040940)', 'Reports To': '7_Vijay_Indoria_(1045867)', 'Line Detail 1': 'Associate Manager, R&D', 'Line Detail 2': 'Florida, Orlando 315 E Robinson Street STE 325'} score: 0.5618533733043483\n",
      "{'Unique Identifier': '125_Alex_Boldt_(1065899)', 'Name': 'Alex Boldt (1065899)', 'Reports To': '19_Anna_Mulholland_(1040949)', 'Line Detail 1': 'Principal Software Engineer, R&D', 'Line Detail 2': 'Missouri, Virtual Address'} score: 0.557737132740994\n"
     ]
    },
    {
     "name": "stderr",
     "output_type": "stream",
     "text": [
      "/var/folders/db/h74khb5x6_jfk0g2t1d1ptsw0000gp/T/ipykernel_86189/2256241894.py:3: DeprecationWarning: `search` method is deprecated and will be removed in the future. Use `query_points` instead.\n",
      "  hits = qdrant.search(\n"
     ]
    }
   ],
   "source": [
    "# Search time for awesome wines!\n",
    "\n",
    "hits = qdrant.search(\n",
    "    collection_name=\"org_chart\", # change \"top_wines\" to \"org_chart\" if using organization data\n",
    "    query_vector=encoder.encode(user_prompt).tolist(),\n",
    "    limit=10\n",
    ")\n",
    "for hit in hits:\n",
    "  print(hit.payload, \"score:\", hit.score)"
   ]
  },
  {
   "cell_type": "code",
   "execution_count": 31,
   "id": "33243e5d-9e0d-4ec4-98e9-3fc56b8bdb10",
   "metadata": {},
   "outputs": [],
   "source": [
    "# define a variable to hold the search results\n",
    "search_results = [hit.payload for hit in hits]"
   ]
  },
  {
   "cell_type": "code",
   "execution_count": 32,
   "id": "e6c2b91e",
   "metadata": {},
   "outputs": [
    {
     "name": "stdout",
     "output_type": "stream",
     "text": [
      "ChatCompletionMessage(content='Here are five amazing R&D Manager candidates from Bangalore:\\n\\n1. Naresh Medisetty (1045807)\\n2. Rahul Gupta (1497183)\\n3. Partha Nayak (1045812)\\n4. Anand Molkeri (1045810)\\n5. Vijay Indoria (1045867)\\n\\nThese candidates have a strong background in R&D and have been praised for their exceptional work by their previous supervisors. They have experience working in various R&D roles and have been recognized for their innovative ideas and contributions to their teams.\\n\\nPlease note that these candidates are not currently open positions, but they may be suitable for future opportunities. If you have any specific requirements or would like more information, please let me know.</s>', refusal=None, role='assistant', annotations=None, audio=None, function_call=None, tool_calls=None)\n"
     ]
    }
   ],
   "source": [
    "# Now time to connect to the local large language model - Execute the repos/llama/llava-v1.5-7b-q4.llamafile\n",
    "from openai import OpenAI\n",
    "client = OpenAI(\n",
    "    base_url=\"http://127.0.0.1:8080/v1\", # \"http://<Your api-server IP>:port\"\n",
    "    api_key = \"sk-no-key-required\"\n",
    ")\n",
    "completion = client.chat.completions.create(\n",
    "    model=\"LLaMA_CPP\",\n",
    "   # messages=[\n",
    "   #     {\"role\": \"system\", \"content\": \"You are chatbot, a wine specialist. Your top priority is to help guide users into selecting amazing wine and guide them with their requests.\"},\n",
    "   #     {\"role\": \"user\", \"content\": \"Suggest me an amazing Malbec wine from Argentina\"},\n",
    "   #     {\"role\": \"assistant\", \"content\": str(search_results)}\n",
    "   # ]\n",
    "    messages=[\n",
    "        {\"role\": \"system\", \"content\": \"You are chatbot, a HR specialist. Your top priority is to help guide users into selecting amazing talent and guide them with their requests.\"},\n",
    "        {\"role\": \"user\", \"content\": \"Suggest me an amazing R&D Manager from Bangalore\"},\n",
    "        {\"role\": \"assistant\", \"content\": str(search_results)}\n",
    "    ]\n",
    ")\n",
    "print(completion.choices[0].message)"
   ]
  }
 ],
 "metadata": {
  "kernelspec": {
   "display_name": "Python 3",
   "language": "python",
   "name": "python3"
  },
  "language_info": {
   "codemirror_mode": {
    "name": "ipython",
    "version": 3
   },
   "file_extension": ".py",
   "mimetype": "text/x-python",
   "name": "python",
   "nbconvert_exporter": "python",
   "pygments_lexer": "ipython3",
   "version": "3.13.5"
  }
 },
 "nbformat": 4,
 "nbformat_minor": 5
}
